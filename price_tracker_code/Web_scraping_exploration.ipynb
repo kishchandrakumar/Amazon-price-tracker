{
 "cells": [
  {
   "cell_type": "code",
   "execution_count": null,
   "id": "2d07428e",
   "metadata": {},
   "outputs": [],
   "source": [
    "import scrapy\n"
   ]
  },
  {
   "cell_type": "code",
   "execution_count": 4,
   "id": "b86bdbdf",
   "metadata": {},
   "outputs": [
    {
     "name": "stdout",
     "output_type": "stream",
     "text": [
      "hello\n"
     ]
    }
   ],
   "source": [
    "print('hello')"
   ]
  },
  {
   "cell_type": "code",
   "execution_count": 5,
   "id": "9a8a0edd",
   "metadata": {},
   "outputs": [],
   "source": [
    "import os"
   ]
  },
  {
   "cell_type": "code",
   "execution_count": 7,
   "id": "6ece5451",
   "metadata": {},
   "outputs": [
    {
     "name": "stdout",
     "output_type": "stream",
     "text": [
      "ALLUSERSPROFILE\n",
      "APPDATA\n",
      "APPSROOT\n",
      "COMMONPROGRAMFILES\n",
      "COMMONPROGRAMFILES(X86)\n",
      "COMMONPROGRAMW6432\n",
      "COMPUTERNAME\n",
      "COMSPEC\n",
      "DRIVERDATA\n",
      "FPS_BROWSER_APP_PROFILE_STRING\n",
      "FPS_BROWSER_USER_PROFILE_STRING\n",
      "HOMEDRIVE\n",
      "HOMEPATH\n",
      "LOCALAPPDATA\n",
      "LOGONSERVER\n",
      "NUMBER_OF_PROCESSORS\n",
      "ONEDRIVE\n",
      "OS\n",
      "PATH\n",
      "PATHEXT\n",
      "PROCESSOR_ARCHITECTURE\n",
      "PROCESSOR_IDENTIFIER\n",
      "PROCESSOR_LEVEL\n",
      "PROCESSOR_REVISION\n",
      "PROGRAMDATA\n",
      "PROGRAMFILES\n",
      "PROGRAMFILES(X86)\n",
      "PROGRAMW6432\n",
      "PROMPT\n",
      "PSMODULEPATH\n",
      "PUBLIC\n",
      "SESSIONNAME\n",
      "SYSTEMDRIVE\n",
      "SYSTEMROOT\n",
      "TEMP\n",
      "TMP\n",
      "USERDOMAIN\n",
      "USERDOMAIN_ROAMINGPROFILE\n",
      "USERNAME\n",
      "USERPROFILE\n",
      "WINDIR\n",
      "PYTHONUSERBASE\n",
      "PYDEVD_USE_FRAME_EVAL\n",
      "JPY_INTERRUPT_EVENT\n",
      "IPY_INTERRUPT_EVENT\n",
      "JPY_PARENT_PID\n",
      "TERM\n",
      "CLICOLOR\n",
      "PAGER\n",
      "GIT_PAGER\n",
      "MPLBACKEND\n"
     ]
    }
   ],
   "source": [
    "for i in os.environ:\n",
    "    print(i)"
   ]
  },
  {
   "cell_type": "code",
   "execution_count": 8,
   "id": "de84638a",
   "metadata": {},
   "outputs": [
    {
     "data": {
      "text/plain": [
       "os._Environ"
      ]
     },
     "execution_count": 8,
     "metadata": {},
     "output_type": "execute_result"
    }
   ],
   "source": []
  },
  {
   "cell_type": "code",
   "execution_count": null,
   "id": "692a195e",
   "metadata": {},
   "outputs": [],
   "source": []
  }
 ],
 "metadata": {
  "kernelspec": {
   "display_name": "Python 3 (ipykernel)",
   "language": "python",
   "name": "python3"
  },
  "language_info": {
   "codemirror_mode": {
    "name": "ipython",
    "version": 3
   },
   "file_extension": ".py",
   "mimetype": "text/x-python",
   "name": "python",
   "nbconvert_exporter": "python",
   "pygments_lexer": "ipython3",
   "version": "3.8.10"
  }
 },
 "nbformat": 4,
 "nbformat_minor": 5
}
